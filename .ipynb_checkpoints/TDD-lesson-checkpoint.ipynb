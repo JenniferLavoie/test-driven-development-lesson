{
 "cells": [
  {
   "cell_type": "markdown",
   "metadata": {},
   "source": [
    "### Objectives\n",
    "YWBAT \n",
    "* explain how TDD is used within AGILE\n",
    "    * Agile vs Waterfall\n",
    "* write a function given test requirements\n",
    "* execute a nosetest to verify if your function passes or fails"
   ]
  },
  {
   "cell_type": "markdown",
   "metadata": {},
   "source": [
    "### What is Agile?\n",
    "> *Agile project management is an iterative development methodology that values human communication and feedback, adapting to changes, and producing working results.*  - https://blog.capterra.com/definition-of-agile-project-management/\n",
    "\n",
    "[Full Agile Manifesto Here](http://agilemanifesto.org/principles.html)"
   ]
  },
  {
   "cell_type": "markdown",
   "metadata": {},
   "source": [
    "### AGILE DIAGRAM\n",
    "![](images/agile.png)"
   ]
  },
  {
   "cell_type": "markdown",
   "metadata": {},
   "source": [
    "Since we're only dealing with the **Tasks** section of this diagram, let's see how **TDD** fits into it\n",
    "![](images/tdd.png)"
   ]
  },
  {
   "cell_type": "markdown",
   "metadata": {},
   "source": [
    "### Why TDD?\n",
    "![](images/tdd-meme.png)"
   ]
  },
  {
   "cell_type": "markdown",
   "metadata": {},
   "source": [
    "### Let's go through an example\n",
    "After the sprint planning meeting on Wednesday morning, you've been tasked with the following requirements. Add to the source code functionality that will:\n",
    "* New user signs up on site with email and password\n",
    "* App will verify that the password has\n",
    "    * at least 15 characters\n",
    "    * at least one character is a digit\n",
    "    * at least one character is a special symbol (?!@#\\$\\*)\n",
    "    * at least one character is uppercase"
   ]
  },
  {
   "cell_type": "markdown",
   "metadata": {},
   "source": [
    "### Common Best Practices\n",
    "* Use IDE that supports a terminal\n",
    "    * PyCharm (preferred for python developers)\n",
    "    * VSCode\n",
    "* Split windows to view both files at the same time\n",
    "* Run nosetests within a folder\n",
    "    * ```nosetests unittest/```\n",
    "* Run nosetests to break after first fail\n",
    "    * ```nosetests unittest/ -x```"
   ]
  },
  {
   "cell_type": "markdown",
   "metadata": {},
   "source": [
    "### [Full Nosetest Docs Found Here](https://nose.readthedocs.io/en/latest/man.html)"
   ]
  }
 ],
 "metadata": {
  "kernelspec": {
   "display_name": "Python 3",
   "language": "python",
   "name": "python3"
  },
  "language_info": {
   "codemirror_mode": {
    "name": "ipython",
    "version": 3
   },
   "file_extension": ".py",
   "mimetype": "text/x-python",
   "name": "python",
   "nbconvert_exporter": "python",
   "pygments_lexer": "ipython3",
   "version": "3.7.3"
  }
 },
 "nbformat": 4,
 "nbformat_minor": 2
}
